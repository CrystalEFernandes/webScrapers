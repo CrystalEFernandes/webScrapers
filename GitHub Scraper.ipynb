{
 "cells": [
  {
   "cell_type": "code",
   "execution_count": 4,
   "id": "6c214398",
   "metadata": {
    "scrolled": false
   },
   "outputs": [
    {
     "name": "stderr",
     "output_type": "stream",
     "text": [
      "C:\\Users\\HP\\AppData\\Local\\Temp\\ipykernel_18364\\3100374421.py:21: DeprecationWarning: executable_path has been deprecated, please pass in a Service object\n",
      "  driver = webdriver.Chrome(executable_path=self.driver_path, chrome_options=option)\n",
      "C:\\Users\\HP\\AppData\\Local\\Temp\\ipykernel_18364\\3100374421.py:21: DeprecationWarning: use options instead of chrome_options\n",
      "  driver = webdriver.Chrome(executable_path=self.driver_path, chrome_options=option)\n"
     ]
    },
    {
     "data": {
      "text/html": [
       "<div>\n",
       "<style scoped>\n",
       "    .dataframe tbody tr th:only-of-type {\n",
       "        vertical-align: middle;\n",
       "    }\n",
       "\n",
       "    .dataframe tbody tr th {\n",
       "        vertical-align: top;\n",
       "    }\n",
       "\n",
       "    .dataframe thead th {\n",
       "        text-align: right;\n",
       "    }\n",
       "</style>\n",
       "<table border=\"1\" class=\"dataframe\">\n",
       "  <thead>\n",
       "    <tr style=\"text-align: right;\">\n",
       "      <th></th>\n",
       "      <th>Title</th>\n",
       "      <th>Programming Language</th>\n",
       "    </tr>\n",
       "  </thead>\n",
       "  <tbody>\n",
       "    <tr>\n",
       "      <th>0</th>\n",
       "      <td>bookharbour</td>\n",
       "      <td>HTML</td>\n",
       "    </tr>\n",
       "    <tr>\n",
       "      <th>1</th>\n",
       "      <td>9539_Software_Engineering</td>\n",
       "      <td>NaN</td>\n",
       "    </tr>\n",
       "    <tr>\n",
       "      <th>2</th>\n",
       "      <td>bankJavaSwing</td>\n",
       "      <td>Java</td>\n",
       "    </tr>\n",
       "    <tr>\n",
       "      <th>3</th>\n",
       "      <td>NGOFinder</td>\n",
       "      <td>Java</td>\n",
       "    </tr>\n",
       "  </tbody>\n",
       "</table>\n",
       "</div>"
      ],
      "text/plain": [
       "                       Title Programming Language\n",
       "0                bookharbour                 HTML\n",
       "1  9539_Software_Engineering                  NaN\n",
       "2              bankJavaSwing                 Java\n",
       "3                  NGOFinder                 Java"
      ]
     },
     "execution_count": 4,
     "metadata": {},
     "output_type": "execute_result"
    }
   ],
   "source": [
    "import pandas as pd\n",
    "from selenium import webdriver\n",
    "from selenium.webdriver.common.by import By\n",
    "from selenium.webdriver.common.keys import Keys\n",
    "import numpy as np\n",
    "from fake_useragent import UserAgent\n",
    "\n",
    "class GitHubBot:\n",
    "    def __init__(self, driver_path=r'C:\\Users\\HP\\Downloads\\WEB SCRAPING\\chromedriver.exe'):\n",
    "        self.driver_path = driver_path\n",
    "        self.user_agent = UserAgent().random\n",
    "        self.driver = self.create_driver()\n",
    "        self.driver.implicitly_wait(5)\n",
    "        self.search_query = None\n",
    "\n",
    "    def create_driver(self):\n",
    "        option = webdriver.ChromeOptions()\n",
    "        option.add_argument(f'user-agent={self.user_agent}')\n",
    "        option.add_argument('--disable-blink-features=AutomationControlled')\n",
    "        option.add_argument(\"--window-size=1920,1080\")\n",
    "        driver = webdriver.Chrome(executable_path=self.driver_path, chrome_options=option)\n",
    "        driver.maximize_window()\n",
    "        return driver\n",
    "\n",
    "    def open_url(self, url):\n",
    "        self.driver.get(url)\n",
    "\n",
    "    def click_repositories_tab(self):\n",
    "        repositories_tab = self.driver.find_element(By.XPATH, \"//a[@data-tab-item='repositories']\")\n",
    "        repositories_tab.click()\n",
    "\n",
    "    def scrape_repositories_data(self):\n",
    "        titles = []\n",
    "        languages = []\n",
    "\n",
    "        repo_containers = self.driver.find_elements(By.XPATH, \"//div[@class='col-10 col-lg-9 d-inline-block']\")\n",
    "        \n",
    "        for container in repo_containers:\n",
    "            title_element = container.find_element(By.TAG_NAME, 'a')\n",
    "            title = title_element.text\n",
    "            titles.append(title)\n",
    "\n",
    "            language_elements = container.find_elements(By.XPATH, \".//span[@itemprop='programmingLanguage']\")\n",
    "            if language_elements:\n",
    "                language = language_elements[0].text\n",
    "            else:\n",
    "                language = np.nan\n",
    "            languages.append(language)\n",
    "\n",
    "        return titles, languages\n",
    "\n",
    "bot = GitHubBot()\n",
    "\n",
    "bot.open_url('https://github.com/CrystalEFernandes')\n",
    "bot.click_repositories_tab()\n",
    "titles, languages = bot.scrape_repositories_data()\n",
    "\n",
    "data = {'Title': titles, 'Programming Language': languages}\n",
    "df = pd.DataFrame(data)\n",
    "\n",
    "df\n"
   ]
  },
  {
   "cell_type": "code",
   "execution_count": null,
   "id": "cb4fc855",
   "metadata": {},
   "outputs": [],
   "source": []
  }
 ],
 "metadata": {
  "kernelspec": {
   "display_name": "Python 3 (ipykernel)",
   "language": "python",
   "name": "python3"
  },
  "language_info": {
   "codemirror_mode": {
    "name": "ipython",
    "version": 3
   },
   "file_extension": ".py",
   "mimetype": "text/x-python",
   "name": "python",
   "nbconvert_exporter": "python",
   "pygments_lexer": "ipython3",
   "version": "3.9.13"
  }
 },
 "nbformat": 4,
 "nbformat_minor": 5
}
